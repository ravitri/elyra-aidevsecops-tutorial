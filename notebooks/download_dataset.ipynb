{
 "cells": [
  {
   "cell_type": "markdown",
   "metadata": {
    "tags": [
     "papermill-error-cell-tag"
    ]
   },
   "source": [
    "# Download Dataset"
   ]
  },
  {
   "cell_type": "markdown",
   "metadata": {},
   "source": [
    "## Import libraries"
   ]
  },
  {
   "cell_type": "code",
   "execution_count": 1,
   "metadata": {},
   "outputs": [],
   "source": [
    "import os\n",
    "import boto3\n",
    "import logging\n",
    "import pickle\n",
    "\n",
    "from pathlib import Path\n",
    "\n",
    "import matplotlib.pyplot as plt\n",
    "\n",
    "from tensorflow.keras.datasets import mnist as tf_dataset"
   ]
  },
  {
   "cell_type": "markdown",
   "metadata": {},
   "source": [
    "## Load data"
   ]
  },
  {
   "cell_type": "code",
   "execution_count": 2,
   "metadata": {
    "papermill": {
     "duration": 2.876671,
     "end_time": "2021-02-03T13:23:43.625282",
     "exception": false,
     "start_time": "2021-02-03T13:23:40.748611",
     "status": "completed"
    },
    "tags": []
   },
   "outputs": [],
   "source": [
    "# set up logging\n",
    "DEBUG_LEVEL = bool(int(os.getenv(\"DEBUG_LEVEL\", 0)))\n",
    "\n",
    "if DEBUG_LEVEL:\n",
    "    logging.basicConfig(level=logging.DEBUG)\n",
    "else:\n",
    "    logging.basicConfig(level=logging.INFO)\n",
    "\n",
    "_LOGGER = logging.getLogger(__name__)\n",
    "\n",
    "\n",
    "def _is_file_downloaded(file_downloaded_path: Path) -> bool:\n",
    "    \"\"\"Check if file is already downloaded.\"\"\"\n",
    "    if os.path.exists(file_downloaded_path):\n",
    "        _LOGGER.info(\n",
    "            \"{} already exists, skipping ...\".format(file_downloaded_path)\n",
    "        )\n",
    "        return True\n",
    "\n",
    "    return False\n",
    "\n",
    "\n",
    "# Prepare MNIST data.\n",
    "(x_train, y_train), (x_test, y_test) = tf_dataset.load_data()"
   ]
  },
  {
   "cell_type": "code",
   "execution_count": 3,
   "metadata": {
    "papermill": {
     "duration": null,
     "end_time": null,
     "exception": null,
     "start_time": null,
     "status": "pending"
    },
    "tags": []
   },
   "outputs": [
    {
     "name": "stdout",
     "output_type": "stream",
     "text": [
      "8\n"
     ]
    },
    {
     "data": {
      "text/plain": [
       "<matplotlib.image.AxesImage at 0x7fb88599a640>"
      ]
     },
     "execution_count": 3,
     "metadata": {},
     "output_type": "execute_result"
    },
    {
     "data": {
      "image/png": "[encoded data removed]",
      "text/plain": [
       "<Figure size 432x288 with 1 Axes>"
      ]
     },
     "metadata": {
      "needs_background": "light"
     },
     "output_type": "display_data"
    }
   ],
   "source": [
    "image_index = 7777  # You may select anything up to 60,000\n",
    "print(y_train[image_index])  # The label is 8\n",
    "plt.imshow(x_train[image_index], cmap=\"Greys\")"
   ]
  },
  {
   "cell_type": "markdown",
   "metadata": {},
   "source": [
    "## Store files"
   ]
  },
  {
   "cell_type": "code",
   "execution_count": 4,
   "metadata": {
    "papermill": {
     "duration": null,
     "end_time": null,
     "exception": null,
     "start_time": null,
     "status": "pending"
    },
    "tags": []
   },
   "outputs": [
    {
     "name": "stderr",
     "output_type": "stream",
     "text": [
      "INFO:__main__:/opt/app-root/src/nb-pr/elyra-aidevsecops-tutorial/data/raw/xdata.pkl already exists, skipping ...\n",
      "INFO:__main__:/opt/app-root/src/nb-pr/elyra-aidevsecops-tutorial/data/raw/ydata.pkl already exists, skipping ...\n",
      "INFO:__main__:/opt/app-root/src/nb-pr/elyra-aidevsecops-tutorial/data/raw/xtestdata.pkl already exists, skipping ...\n",
      "INFO:__main__:/opt/app-root/src/nb-pr/elyra-aidevsecops-tutorial/data/raw/ytestdata.pkl already exists, skipping ...\n"
     ]
    }
   ],
   "source": [
    "use_ceph = bool(int(os.getenv(\"USE_CEPH\", 0)))\n",
    "automation = bool(int(os.getenv(\"AUTOMATION\", 0)))\n",
    "project_name = os.environ.get(\"PROJECT_NAME\", \"elyra-aidevsecops-tutorial\")\n",
    "\n",
    "dataset = {\n",
    "    \"xdata.pkl\": x_train,\n",
    "    \"ydata.pkl\": y_train,\n",
    "    \"xtestdata.pkl\": x_test,\n",
    "    \"ytestdata.pkl\": y_test,\n",
    "}\n",
    "\n",
    "if automation:\n",
    "    # Store file relative to directory\n",
    "    destination_path = Path(str(os.environ.get(\"DATASET\", \"data/raw\")))\n",
    "\n",
    "else:\n",
    "\n",
    "    # Set path where to store\n",
    "    directory_path = Path.cwd().parents[0]\n",
    "    destination_path = directory_path.joinpath(\n",
    "        str(os.environ.get(\"DATASET\", \"data/raw\"))\n",
    "    )\n",
    "\n",
    "    if use_ceph:\n",
    "\n",
    "        s3_endpoint_url = os.environ[\"OBJECT_STORAGE_ENDPOINT_URL\"]\n",
    "        s3_access_key = os.environ[\"AWS_ACCESS_KEY_ID\"]\n",
    "        s3_secret_key = os.environ[\"AWS_SECRET_ACCESS_KEY\"]\n",
    "        s3_bucket = os.environ[\"OBJECT_STORAGE_BUCKET_NAME\"]\n",
    "\n",
    "        # Create an S3 client\n",
    "        s3 = boto3.client(\n",
    "            service_name=\"s3\",\n",
    "            aws_access_key_id=s3_access_key,\n",
    "            aws_secret_access_key=s3_secret_key,\n",
    "            endpoint_url=s3_endpoint_url,\n",
    "        )\n",
    "\n",
    "\n",
    "# Store MNIST data for next step.\n",
    "for data_name, data_file in dataset.items():\n",
    "\n",
    "    if not os.path.exists(destination_path):\n",
    "        destination_path.mkdir(parents=True, exist_ok=True)\n",
    "\n",
    "    file_downloaded_path = destination_path.joinpath(data_name)\n",
    "\n",
    "    if use_ceph:\n",
    "        key = f\"{project_name}/data/raw/{data_name}\"\n",
    "        print(key)\n",
    "        s3.upload_file(\n",
    "            Bucket=s3_bucket, Key=key, Filename=str(file_downloaded_path)\n",
    "        )\n",
    "\n",
    "    else:\n",
    "\n",
    "        if not _is_file_downloaded(file_downloaded_path):\n",
    "            output = open(file_downloaded_path, \"wb\")\n",
    "            pickle.dump(data_file, output)\n",
    "            output.close()\n",
    "            _LOGGER.info(\"Stored {}\".format(file_downloaded_path))"
   ]
  }
 ],
 "metadata": {
  "dependency_resolution_engine": "pipenv",
  "kernelspec": {
   "display_name": "Python 3",
   "language": "python",
   "name": "python3"
  },
  "language_info": {
   "codemirror_mode": {
    "name": "ipython",
    "version": 3
   },
   "file_extension": ".py",
   "mimetype": "text/x-python",
   "name": "python",
   "nbconvert_exporter": "python",
   "pygments_lexer": "ipython3",
   "version": "3.8.6"
  },
  "papermill": {
   "default_parameters": {},
   "duration": 6.137971,
   "end_time": "2021-02-03T13:23:45.929678",
   "environment_variables": {},
   "exception": true,
   "input_path": "/opt/app-root/src/elyra-aidevsecops-tutorial/notebooks/download_dataset.ipynb",
   "output_path": "/opt/app-root/src/elyra-aidevsecops-tutorial/notebooks/download_dataset.ipynb",
   "parameters": {},
   "start_time": "2021-02-03T13:23:39.791707",
   "version": "2.2.0"
  },
  "requirements": "{\"packages\":{\"tensorflow\":\">=2.4.0\",\"boto3\":\"==1.17.12\",\"matplotlib\":\">=3.3.4\"},\"requires\":{\"python_version\":\"3.8\"},\"sources\":[{\"name\":\"pypi\",\"url\":\"https://pypi.org/simple\",\"verify_ssl\":true}]}",
  "requirements_lock": "{\"_meta\":{\"sources\":[{\"url\":\"https://pypi.org/simple\",\"verify_ssl\":true,\"name\":\"pypi\"}],\"requires\":{\"python_version\":\"3.8\"},\"hash\":{\"sha256\":\"937b20af5a636cb836785e81c99e851779f8551816aa33169b8b6ad239068c77\"},\"pipfile-spec\":6},\"default\":{\"absl-py\":{\"version\":\"==0.13.0\",\"hashes\":[\"sha256:62bd4e248ddb19d81aec8f9446b407ff37c8175c2ba88266a7afa9b4ce4a333b\",\"sha256:6953272383486044699fd0e9f00aad167a27e08ce19aae66c6c4b10e7e767793\"]},\"astunparse\":{\"version\":\"==1.6.3\",\"hashes\":[\"sha256:5ad93a8456f0d084c3456d059fd9a92cce667963232cbf763eac3bc5b7940872\",\"sha256:c2652417f2c8b5bb325c885ae329bdf3f86424075c4fd1a128674bc6fba4b8e8\"]},\"boto3\":{\"version\":\"==1.17.12\",\"hashes\":[\"sha256:62f06cd1e7a78d8aaa4e527c327653e9a6c1af415b59836048a90c28a27e5f09\",\"sha256:bbc47e6f83372d9a18483895e7116ea50e8da32ffb62e8afc0a6e2323f964ed9\"],\"index\":\"pypi\"},\"botocore\":{\"version\":\"==1.20.112\",\"hashes\":[\"sha256:6d51de0981a3ef19da9e6a3c73b5ab427e3c0c8b92200ebd38d087299683dd2b\",\"sha256:d0b9b70b6eb5b65bb7162da2aaf04b6b086b15cc7ea322ddc3ef2f5e07944dcf\"],\"markers\":\"python_version >= '2.7' and python_version not in '3.0, 3.1, 3.2, 3.3, 3.4, 3.5'\"},\"cachetools\":{\"version\":\"==4.2.2\",\"hashes\":[\"sha256:2cc0b89715337ab6dbba85b5b50effe2b0c74e035d83ee8ed637cf52f12ae001\",\"sha256:61b5ed1e22a0924aed1d23b478f37e8d52549ff8a961de2909c69bf950020cff\"],\"markers\":\"python_version ~= '3.5'\"},\"certifi\":{\"version\":\"==2021.5.30\",\"hashes\":[\"sha256:2bbf76fd432960138b3ef6dda3dde0544f27cbf8546c458e60baf371917ba9ee\",\"sha256:50b1e4f8446b06f41be7dd6338db18e0990601dce795c2b1686458aa7e8fa7d8\"]},\"charset-normalizer\":{\"version\":\"==2.0.4\",\"hashes\":[\"sha256:0c8911edd15d19223366a194a513099a302055a962bca2cec0f54b8b63175d8b\",\"sha256:f23667ebe1084be45f6ae0538e4a5a865206544097e4e8bbcacf42cd02a348f3\"],\"markers\":\"python_version >= '3'\"},\"clang\":{\"version\":\"==5.0\",\"hashes\":[\"sha256:b9301dff507041b5019b30ae710b78b0552c1ca1d4441b8dfa93c2e85078a5f8\",\"sha256:ceccae97eda0225a5b44d42ffd61102e248325c2865ca53e4407746464a5333a\"]},\"cycler\":{\"version\":\"==0.10.0\",\"hashes\":[\"sha256:1d8a5ae1ff6c5cf9b93e8811e581232ad8920aeec647c37316ceac982b08cb2d\",\"sha256:cd7b2d1018258d7247a71425e9f26463dfb444d411c39569972f4ce586b0c9d8\"]},\"flatbuffers\":{\"version\":\"==1.12\",\"hashes\":[\"sha256:63bb9a722d5e373701913e226135b28a6f6ac200d5cc7b4d919fa38d73b44610\",\"sha256:9e9ef47fa92625c4721036e7c4124182668dc6021d9e7c73704edd395648deb9\"]},\"gast\":{\"version\":\"==0.4.0\",\"hashes\":[\"sha256:40feb7b8b8434785585ab224d1568b857edb18297e5a3047f1ba012bc83b42c1\",\"sha256:b7adcdd5adbebf1adf17378da5ba3f543684dbec47b1cda1f3997e573cd542c4\"],\"markers\":\"python_version >= '2.7' and python_version not in '3.0, 3.1, 3.2, 3.3'\"},\"google-auth\":{\"version\":\"==1.35.0\",\"hashes\":[\"sha256:997516b42ecb5b63e8d80f5632c1a61dddf41d2a4c2748057837e06e00014258\",\"sha256:b7033be9028c188ee30200b204ea00ed82ea1162e8ac1df4aa6ded19a191d88e\"],\"markers\":\"python_version >= '2.7' and python_version not in '3.0, 3.1, 3.2, 3.3, 3.4, 3.5'\"},\"google-auth-oauthlib\":{\"version\":\"==0.4.6\",\"hashes\":[\"sha256:3f2a6e802eebbb6fb736a370fbf3b055edcb6b52878bf2f26330b5e041316c73\",\"sha256:a90a072f6993f2c327067bf65270046384cda5a8ecb20b94ea9a687f1f233a7a\"],\"markers\":\"python_version >= '3.6'\"},\"google-pasta\":{\"version\":\"==0.2.0\",\"hashes\":[\"sha256:4612951da876b1a10fe3960d7226f0c7682cf901e16ac06e473b267a5afa8954\",\"sha256:b32482794a366b5366a32c92a9a9201b107821889935a02b3e51f6b432ea84ed\",\"sha256:c9f2c8dfc8f96d0d5808299920721be30c9eec37f2389f28904f454565c8a16e\"]},\"grpcio\":{\"version\":\"==1.39.0\",\"hashes\":[\"sha256:02e8a8b41db8e13df53078355b439363e4ac46d0ac9a8a461a39e42829e2bcf8\",\"sha256:050901a5baa6c4ca445e1781ef4c32d864f965ccec70c46cd5ad92d15e282c6a\",\"sha256:1ab44dde4e1b225d3fc873535ca6e642444433131dd2891a601b75fb46c87c11\",\"sha256:2068a2b896ac67103c4a5453d5435fafcbb1a2f41eaf25148d08780096935cee\",\"sha256:20f57c5d09a36e0d0c8fe16ee1905f4307edb1d04f6034b56320f7fbc1a1071a\",\"sha256:25731b2c20a4ed51bea7e3952d5e83d408a5df32d03c7553457b2e6eb8bcb16c\",\"sha256:27e2c6213fc04e71a862bacccb51f3c8e722255933f01736ace183e92d860ee6\",\"sha256:2a4308875b9b986000513c6b04c2e7424f436a127f15547036c42d3cf8289374\",\"sha256:2a958ad794292e12d8738a06754ebaf71662e635a89098916c18715b27ca2b5b\",\"sha256:2bc7eebb405aac2d7eecfaa881fd73b489f99c01470d7193b4431a6ce199b9c3\",\"sha256:366b6b35b3719c5570588e21d866460c5666ae74e3509c2a5a73ca79997abdaf\",\"sha256:3c14e2087f809973d5ee8ca64f772a089ead0167286f3f21fdda8b6029b50abb\",\"sha256:3c57fa7fec932767bc553bfb956759f45026890255bd232b2f797c3bc4dfeba2\",\"sha256:3cccf470fcaab65a1b0a826ff34bd7c0861eb82ed957a83c6647a983459e4ecd\",\"sha256:4039645b8b5d19064766f3a6fa535f1db52a61c4d4de97a6a8945331a354d527\",\"sha256:4163e022f365406be2da78db890035463371effea172300ce5af8a768142baf3\",\"sha256:4258b778ce09ffa3b7c9a26971c216a34369e786771afbf4f98afe223f27d248\",\"sha256:43c57987e526d1b893b85099424387b22de6e3eee4ea7188443de8d657d11cc0\",\"sha256:43e0f5c49f985c94332794aa6c4f15f3a1ced336f0c6a6c8946c67b5ab111ae9\",\"sha256:46cfb0f2b757673bfd36ab4b0e3d61988cc1a0d47e0597e91462dcbef7528f35\",\"sha256:46d510a7af777d2f38ef4c1d25491add37cad24143012f3eebe72dc5c6d0fc4c\",\"sha256:476fa94ba8efb09213baabd757f6f93e839794d8ae0eaa371347d6899e8f57a0\",\"sha256:4b3fcc1878a1a5b71e1ecdfe82c74f7cd9eadaa43e25be0d67676dcec0c9d39f\",\"sha256:5091b4a5ee8454a8f0c8ac45946ca25d6142c3be4b1fba141f1d62a6e0b5c696\",\"sha256:5127f4ba1f52fda28037ae465cf4b0e5fabe89d5ac1d64d15b073b46b7db5e16\",\"sha256:52100d800390d58492ed1093de6faccd957de6fc29b1a0e5948c84f275d9228f\",\"sha256:544e1c1a133b43893e03e828c8325be5b82e20d3b0ef0ee3942d32553052a1b5\",\"sha256:5628e7cc69079159f9465388ff21fde1e1a780139f76dd99d319119d45156f45\",\"sha256:57974361a459d6fe04c9ae0af1845974606612249f467bbd2062d963cb90f407\",\"sha256:691f5b3a75f072dfb7b093f46303f493b885b7a42f25a831868ffaa22ee85f9d\",\"sha256:6ba6ad60009da2258cf15a72c51b7e0c2f58c8da517e97550881e488839e56c6\",\"sha256:6d51be522b573cec14798d4742efaa69d234bedabce122fec2d5489abb3724d4\",\"sha256:7b95b3329446408e2fe6db9b310d263303fa1a94649d08ec1e1cc12506743d26\",\"sha256:88dbef504b491b96e3238a6d5360b04508c34c62286080060c85fddd3caf7137\",\"sha256:8ed1e52ad507a54d20e6aaedf4b3edcab18cc12031eafe6de898f97513d8997b\",\"sha256:a1fb9936b86b5efdea417fe159934bcad82a6f8c6ab7d1beec4bf3a78324d975\",\"sha256:a2733994b05ee5382da1d0378f6312b72c5cb202930c7fa20c794a24e96a1a34\",\"sha256:a6211150765cc2343e69879dfb856718b0f7477a4618b5f9a8f6c3ee84c047c0\",\"sha256:a659f7c634cacfcf14657687a9fa3265b0a1844b1c19d140f3b66aebfba1a66b\",\"sha256:b0ff14dd872030e6b2fce8a6811642bd30d93833f794d3782c7e9eb2f01234cc\",\"sha256:b236eb4b50d83754184b248b8b1041bb1546287fff7618c4b7001b9f257bb903\",\"sha256:c44958a24559f875d902d5c1acb0ae43faa5a84f6120d1d0d800acb52f96516e\",\"sha256:c8fe430add656b92419f6cd0680b64fbe6347c831d89a7788324f5037dfb3359\",\"sha256:cd2e39a199bcbefb3f4b9fa6677c72b0e67332915550fed3bd7c28b454bf917d\",\"sha256:cffdccc94e63710dd6ead01849443390632c8e0fec52dc26e4fddf9f28ac9280\",\"sha256:d5a105f5a595b89a0e394e5b147430b115333d07c55efb0c0eddc96055f0d951\",\"sha256:dc3a24022a90c1754e54315009da6f949b48862c1d06daa54f9a28f89a5efacb\",\"sha256:de83a045005703e7b9e67b61c38bb72cd49f68d9d2780d2c675353a3a3f2816f\",\"sha256:e98aca5cfe05ca29950b3d99006b9ddb54fde6451cd12cb2db1443ae3b9fa076\",\"sha256:ed845ba6253c4032d5a01b7fb9db8fe80299e9a437e695a698751b0b191174be\",\"sha256:f2621c82fbbff1496993aa5fbf60e235583c7f970506e818671ad52000b6f310\"]},\"h5py\":{\"version\":\"==3.1.0\",\"hashes\":[\"sha256:02c391fdb980762a1cc03a4bcaecd03dc463994a9a63a02264830114a96e111f\",\"sha256:1cd367f89a5441236bdbb795e9fb9a9e3424929c00b4a54254ca760437f83d69\",\"sha256:1cdfd1c5449ca1329d152f0b66830e93226ebce4f5e07dd8dc16bfc2b1a49d7b\",\"sha256:1e2516f190652beedcb8c7acfa1c6fa92d99b42331cbef5e5c7ec2d65b0fc3c2\",\"sha256:236ac8d943be30b617ab615c3d4a4bf4a438add2be87e54af3687ab721a18fac\",\"sha256:2e37352ddfcf9d77a2a47f7c8f7e125c6d20cc06c2995edeb7be222d4e152636\",\"sha256:80c623be10479e81b64fa713b7ed4c0bbe9f02e8e7d2a2e5382336087b615ce4\",\"sha256:ba71f6229d2013fbb606476ecc29c6223fc16b244d35fcd8566ad9dbaf910857\",\"sha256:cb74df83709d6d03d11e60b9480812f58da34f194beafa8c8314dbbeeedfe0a6\",\"sha256:dccb89358bc84abcd711363c3e138f9f4eccfdf866f2139a8e72308328765b2c\",\"sha256:e33f61d3eb862614c0f273a1f993a64dc2f093e1a3094932c50ada9d2db2170f\",\"sha256:f89a3dae38843ffa49d17a31a3509a8129e9b46ece602a0138e1ed79e685c361\",\"sha256:fea05349f63625a8fb808e57e42bb4c76930cf5d50ac58b678c52f913a48a89b\"],\"markers\":\"python_version >= '3.6'\"},\"idna\":{\"version\":\"==3.2\",\"hashes\":[\"sha256:14475042e284991034cb48e06f6851428fb14c4dc953acd9be9a5e95c7b6dd7a\",\"sha256:467fbad99067910785144ce333826c71fb0e63a425657295239737f7ecd125f3\"],\"markers\":\"python_version >= '3'\"},\"jmespath\":{\"version\":\"==0.10.0\",\"hashes\":[\"sha256:b85d0567b8666149a93172712e68920734333c0ce7e89b78b3e987f71e5ed4f9\",\"sha256:cdf6525904cc597730141d61b36f2e4b8ecc257c420fa2f4549bac2c2d0cb72f\"],\"markers\":\"python_version >= '2.6' and python_version not in '3.0, 3.1, 3.2, 3.3'\"},\"keras\":{\"version\":\"==2.6.0\",\"hashes\":[\"sha256:504af5656a9829fe803ce48a8580ef16916e89906aceddad9e098614269437e7\"]},\"keras-preprocessing\":{\"version\":\"==1.1.2\",\"hashes\":[\"sha256:7b82029b130ff61cc99b55f3bd27427df4838576838c5b2f65940e4fcec99a7b\",\"sha256:add82567c50c8bc648c14195bf544a5ce7c1f76761536956c3d2978970179ef3\"]},\"kiwisolver\":{\"version\":\"==1.3.2\",\"hashes\":[\"sha256:0007840186bacfaa0aba4466d5890334ea5938e0bb7e28078a0eb0e63b5b59d5\",\"sha256:19554bd8d54cf41139f376753af1a644b63c9ca93f8f72009d50a2080f870f77\",\"sha256:1d45d1c74f88b9f41062716c727f78f2a59a5476ecbe74956fafb423c5c87a76\",\"sha256:1d819553730d3c2724582124aee8a03c846ec4362ded1034c16fb3ef309264e6\",\"sha256:2210f28778c7d2ee13f3c2a20a3a22db889e75f4ec13a21072eabb5693801e84\",\"sha256:22521219ca739654a296eea6d4367703558fba16f98688bd8ce65abff36eaa84\",\"sha256:25405f88a37c5f5bcba01c6e350086d65e7465fd1caaf986333d2a045045a223\",\"sha256:2b65bd35f3e06a47b5c30ea99e0c2b88f72c6476eedaf8cfbc8e66adb5479dcf\",\"sha256:2ddb500a2808c100e72c075cbb00bf32e62763c82b6a882d403f01a119e3f402\",\"sha256:2f8f6c8f4f1cff93ca5058d6ec5f0efda922ecb3f4c5fb76181f327decff98b8\",\"sha256:30fa008c172355c7768159983a7270cb23838c4d7db73d6c0f6b60dde0d432c6\",\"sha256:3dbb3cea20b4af4f49f84cffaf45dd5f88e8594d18568e0225e6ad9dec0e7967\",\"sha256:4116ba9a58109ed5e4cb315bdcbff9838f3159d099ba5259c7c7fb77f8537492\",\"sha256:44e6adf67577dbdfa2d9f06db9fbc5639afefdb5bf2b4dfec25c3a7fbc619536\",\"sha256:5326ddfacbe51abf9469fe668944bc2e399181a2158cb5d45e1d40856b2a0589\",\"sha256:70adc3658138bc77a36ce769f5f183169bc0a2906a4f61f09673f7181255ac9b\",\"sha256:72be6ebb4e92520b9726d7146bc9c9b277513a57a38efcf66db0620aec0097e0\",\"sha256:7843b1624d6ccca403a610d1277f7c28ad184c5aa88a1750c1a999754e65b439\",\"sha256:7ba5a1041480c6e0a8b11a9544d53562abc2d19220bfa14133e0cdd9967e97af\",\"sha256:80efd202108c3a4150e042b269f7c78643420cc232a0a771743bb96b742f838f\",\"sha256:82f49c5a79d3839bc8f38cb5f4bfc87e15f04cbafa5fbd12fb32c941cb529cfb\",\"sha256:83d2c9db5dfc537d0171e32de160461230eb14663299b7e6d18ca6dca21e4977\",\"sha256:8d93a1095f83e908fc253f2fb569c2711414c0bfd451cab580466465b235b470\",\"sha256:8dc3d842fa41a33fe83d9f5c66c0cc1f28756530cd89944b63b072281e852031\",\"sha256:9661a04ca3c950a8ac8c47f53cbc0b530bce1b52f516a1e87b7736fec24bfff0\",\"sha256:a498bcd005e8a3fedd0022bb30ee0ad92728154a8798b703f394484452550507\",\"sha256:a7a4cf5bbdc861987a7745aed7a536c6405256853c94abc9f3287c3fa401b174\",\"sha256:b5074fb09429f2b7bc82b6fb4be8645dcbac14e592128beeff5461dcde0af09f\",\"sha256:b6a5431940f28b6de123de42f0eb47b84a073ee3c3345dc109ad550a3307dd28\",\"sha256:ba677bcaff9429fd1bf01648ad0901cea56c0d068df383d5f5856d88221fe75b\",\"sha256:bcadb05c3d4794eb9eee1dddf1c24215c92fb7b55a80beae7a60530a91060560\",\"sha256:bf7eb45d14fc036514c09554bf983f2a72323254912ed0c3c8e697b62c4c158f\",\"sha256:c358721aebd40c243894298f685a19eb0491a5c3e0b923b9f887ef1193ddf829\",\"sha256:c4550a359c5157aaf8507e6820d98682872b9100ce7607f8aa070b4b8af6c298\",\"sha256:c6572c2dab23c86a14e82c245473d45b4c515314f1f859e92608dcafbd2f19b8\",\"sha256:cba430db673c29376135e695c6e2501c44c256a81495da849e85d1793ee975ad\",\"sha256:dedc71c8eb9c5096037766390172c34fb86ef048b8e8958b4e484b9e505d66bc\",\"sha256:e6f5eb2f53fac7d408a45fbcdeda7224b1cfff64919d0f95473420a931347ae9\",\"sha256:ec2eba188c1906b05b9b49ae55aae4efd8150c61ba450e6721f64620c50b59eb\",\"sha256:ee040a7de8d295dbd261ef2d6d3192f13e2b08ec4a954de34a6fb8ff6422e24c\",\"sha256:eedd3b59190885d1ebdf6c5e0ca56828beb1949b4dfe6e5d0256a461429ac386\",\"sha256:f441422bb313ab25de7b3dbfd388e790eceb76ce01a18199ec4944b369017009\",\"sha256:f8eb7b6716f5b50e9c06207a14172cf2de201e41912ebe732846c02c830455b9\",\"sha256:fc4453705b81d03568d5b808ad8f09c77c47534f6ac2e72e733f9ca4714aa75c\"],\"markers\":\"python_version >= '3.7'\"},\"markdown\":{\"version\":\"==3.3.4\",\"hashes\":[\"sha256:31b5b491868dcc87d6c24b7e3d19a0d730d59d3e46f4eea6430a321bed387a49\",\"sha256:96c3ba1261de2f7547b46a00ea8463832c921d3f9d6aba3f255a6f71386db20c\"],\"markers\":\"python_version >= '3.6'\"},\"matplotlib\":{\"version\":\"==3.4.3\",\"hashes\":[\"sha256:01c9de93a2ca0d128c9064f23709362e7fefb34910c7c9e0b8ab0de8258d5eda\",\"sha256:41b6e307458988891fcdea2d8ecf84a8c92d53f84190aa32da65f9505546e684\",\"sha256:48e1e0859b54d5f2e29bb78ca179fd59b971c6ceb29977fb52735bfd280eb0f5\",\"sha256:54a026055d5f8614f184e588f6e29064019a0aa8448450214c0b60926d62d919\",\"sha256:556965514b259204637c360d213de28d43a1f4aed1eca15596ce83f768c5a56f\",\"sha256:5c988bb43414c7c2b0a31bd5187b4d27fd625c080371b463a6d422047df78913\",\"sha256:6a724e3a48a54b8b6e7c4ae38cd3d07084508fa47c410c8757e9db9791421838\",\"sha256:6be8df61b1626e1a142c57e065405e869e9429b4a6dab4a324757d0dc4d42235\",\"sha256:844a7b0233e4ff7fba57e90b8799edaa40b9e31e300b8d5efc350937fa8b1bea\",\"sha256:85f0c9cf724715e75243a7b3087cf4a3de056b55e05d4d76cc58d610d62894f3\",\"sha256:a78a3b51f29448c7f4d4575e561f6b0dbb8d01c13c2046ab6c5220eb25c06506\",\"sha256:b884715a59fec9ad3b6048ecf3860f3b2ce965e676ef52593d6fa29abcf7d330\",\"sha256:b8b53f336a4688cfce615887505d7e41fd79b3594bf21dd300531a4f5b4f746a\",\"sha256:c70b6311dda3e27672f1bf48851a0de816d1ca6aaf3d49365fbdd8e959b33d2b\",\"sha256:ebfb01a65c3f5d53a8c2a8133fec2b5221281c053d944ae81ff5822a68266617\",\"sha256:eeb1859efe7754b1460e1d4991bbd4a60a56f366bc422ef3a9c5ae05f0bc70b5\",\"sha256:f15edcb0629a0801738925fe27070480f446fcaa15de65946ff946ad99a59a40\",\"sha256:f1c5efc278d996af8a251b2ce0b07bbeccb821f25c8c9846bdcb00ffc7f158aa\",\"sha256:f72657f1596199dc1e4e7a10f52a4784ead8a711f4e5b59bea95bdb97cf0e4fd\",\"sha256:fc4f526dfdb31c9bd6b8ca06bf9fab663ca12f3ec9cdf4496fb44bc680140318\",\"sha256:fcd6f1954943c0c192bfbebbac263f839d7055409f1173f80d8b11a224d236da\"],\"index\":\"pypi\"},\"numpy\":{\"version\":\"==1.19.5\",\"hashes\":[\"sha256:012426a41bc9ab63bb158635aecccc7610e3eff5d31d1eb43bc099debc979d94\",\"sha256:06fab248a088e439402141ea04f0fffb203723148f6ee791e9c75b3e9e82f080\",\"sha256:0eef32ca3132a48e43f6a0f5a82cb508f22ce5a3d6f67a8329c81c8e226d3f6e\",\"sha256:1ded4fce9cfaaf24e7a0ab51b7a87be9038ea1ace7f34b841fe3b6894c721d1c\",\"sha256:2e55195bc1c6b705bfd8ad6f288b38b11b1af32f3c8289d6c50d47f950c12e76\",\"sha256:2ea52bd92ab9f768cc64a4c3ef8f4b2580a17af0a5436f6126b08efbd1838371\",\"sha256:36674959eed6957e61f11c912f71e78857a8d0604171dfd9ce9ad5cbf41c511c\",\"sha256:384ec0463d1c2671170901994aeb6dce126de0a95ccc3976c43b0038a37329c2\",\"sha256:39b70c19ec771805081578cc936bbe95336798b7edf4732ed102e7a43ec5c07a\",\"sha256:400580cbd3cff6ffa6293df2278c75aef2d58d8d93d3c5614cd67981dae68ceb\",\"sha256:43d4c81d5ffdff6bae58d66a3cd7f54a7acd9a0e7b18d97abb255defc09e3140\",\"sha256:50a4a0ad0111cc1b71fa32dedd05fa239f7fb5a43a40663269bb5dc7877cfd28\",\"sha256:603aa0706be710eea8884af807b1b3bc9fb2e49b9f4da439e76000f3b3c6ff0f\",\"sha256:6149a185cece5ee78d1d196938b2a8f9d09f5a5ebfbba66969302a778d5ddd1d\",\"sha256:759e4095edc3c1b3ac031f34d9459fa781777a93ccc633a472a5468587a190ff\",\"sha256:7fb43004bce0ca31d8f13a6eb5e943fa73371381e53f7074ed21a4cb786c32f8\",\"sha256:811daee36a58dc79cf3d8bdd4a490e4277d0e4b7d103a001a4e73ddb48e7e6aa\",\"sha256:8b5e972b43c8fc27d56550b4120fe6257fdc15f9301914380b27f74856299fea\",\"sha256:99abf4f353c3d1a0c7a5f27699482c987cf663b1eac20db59b8c7b061eabd7fc\",\"sha256:a0d53e51a6cb6f0d9082decb7a4cb6dfb33055308c4c44f53103c073f649af73\",\"sha256:a12ff4c8ddfee61f90a1633a4c4afd3f7bcb32b11c52026c92a12e1325922d0d\",\"sha256:a4646724fba402aa7504cd48b4b50e783296b5e10a524c7a6da62e4a8ac9698d\",\"sha256:a76f502430dd98d7546e1ea2250a7360c065a5fdea52b2dffe8ae7180909b6f4\",\"sha256:a9d17f2be3b427fbb2bce61e596cf555d6f8a56c222bd2ca148baeeb5e5c783c\",\"sha256:ab83f24d5c52d60dbc8cd0528759532736b56db58adaa7b5f1f76ad551416a1e\",\"sha256:aeb9ed923be74e659984e321f609b9ba54a48354bfd168d21a2b072ed1e833ea\",\"sha256:c843b3f50d1ab7361ca4f0b3639bf691569493a56808a0b0c54a051d260b7dbd\",\"sha256:cae865b1cae1ec2663d8ea56ef6ff185bad091a5e33ebbadd98de2cfa3fa668f\",\"sha256:cc6bd4fd593cb261332568485e20a0712883cf631f6f5e8e86a52caa8b2b50ff\",\"sha256:cf2402002d3d9f91c8b01e66fbb436a4ed01c6498fffed0e4c7566da1d40ee1e\",\"sha256:d051ec1c64b85ecc69531e1137bb9751c6830772ee5c1c426dbcfe98ef5788d7\",\"sha256:d6631f2e867676b13026e2846180e2c13c1e11289d67da08d71cacb2cd93d4aa\",\"sha256:dbd18bcf4889b720ba13a27ec2f2aac1981bd41203b3a3b27ba7a33f88ae4827\",\"sha256:df609c82f18c5b9f6cb97271f03315ff0dbe481a2a02e56aeb1b1a985ce38e60\"],\"markers\":\"python_version == '3.8'\"},\"oauthlib\":{\"version\":\"==3.1.1\",\"hashes\":[\"sha256:42bf6354c2ed8c6acb54d971fce6f88193d97297e18602a3a886603f9d7730cc\",\"sha256:8f0215fcc533dd8dd1bee6f4c412d4f0cd7297307d43ac61666389e3bc3198a3\"],\"markers\":\"python_version >= '3.6'\"},\"opt-einsum\":{\"version\":\"==3.3.0\",\"hashes\":[\"sha256:2455e59e3947d3c275477df7f5205b30635e266fe6dc300e3d9f9646bfcea147\",\"sha256:59f6475f77bbc37dcf7cd748519c0ec60722e91e63ca114e68821c0c54a46549\"],\"markers\":\"python_version >= '3.5'\"},\"pillow\":{\"version\":\"==8.3.1\",\"hashes\":[\"sha256:0b2efa07f69dc395d95bb9ef3299f4ca29bcb2157dc615bae0b42c3c20668ffc\",\"sha256:114f816e4f73f9ec06997b2fde81a92cbf0777c9e8f462005550eed6bae57e63\",\"sha256:147bd9e71fb9dcf08357b4d530b5167941e222a6fd21f869c7911bac40b9994d\",\"sha256:15a2808e269a1cf2131930183dcc0419bc77bb73eb54285dde2706ac9939fa8e\",\"sha256:196560dba4da7a72c5e7085fccc5938ab4075fd37fe8b5468869724109812edd\",\"sha256:1c03e24be975e2afe70dfc5da6f187eea0b49a68bb2b69db0f30a61b7031cee4\",\"sha256:1fd5066cd343b5db88c048d971994e56b296868766e461b82fa4e22498f34d77\",\"sha256:29c9569049d04aaacd690573a0398dbd8e0bf0255684fee512b413c2142ab723\",\"sha256:2b6dfa068a8b6137da34a4936f5a816aba0ecc967af2feeb32c4393ddd671cba\",\"sha256:2cac53839bfc5cece8fdbe7f084d5e3ee61e1303cccc86511d351adcb9e2c792\",\"sha256:2ee77c14a0299d0541d26f3d8500bb57e081233e3fa915fa35abd02c51fa7fae\",\"sha256:37730f6e68bdc6a3f02d2079c34c532330d206429f3cee651aab6b66839a9f0e\",\"sha256:3f08bd8d785204149b5b33e3b5f0ebbfe2190ea58d1a051c578e29e39bfd2367\",\"sha256:479ab11cbd69612acefa8286481f65c5dece2002ffaa4f9db62682379ca3bb77\",\"sha256:4bc3c7ef940eeb200ca65bd83005eb3aae8083d47e8fcbf5f0943baa50726856\",\"sha256:660a87085925c61a0dcc80efb967512ac34dbb256ff7dd2b9b4ee8dbdab58cf4\",\"sha256:67b3666b544b953a2777cb3f5a922e991be73ab32635666ee72e05876b8a92de\",\"sha256:70af7d222df0ff81a2da601fab42decb009dc721545ed78549cb96e3a1c5f0c8\",\"sha256:75e09042a3b39e0ea61ce37e941221313d51a9c26b8e54e12b3ececccb71718a\",\"sha256:8960a8a9f4598974e4c2aeb1bff9bdd5db03ee65fd1fce8adf3223721aa2a636\",\"sha256:9364c81b252d8348e9cc0cb63e856b8f7c1b340caba6ee7a7a65c968312f7dab\",\"sha256:969cc558cca859cadf24f890fc009e1bce7d7d0386ba7c0478641a60199adf79\",\"sha256:9a211b663cf2314edbdb4cf897beeb5c9ee3810d1d53f0e423f06d6ebbf9cd5d\",\"sha256:a17ca41f45cf78c2216ebfab03add7cc350c305c38ff34ef4eef66b7d76c5229\",\"sha256:a2f381932dca2cf775811a008aa3027671ace723b7a38838045b1aee8669fdcf\",\"sha256:a4eef1ff2d62676deabf076f963eda4da34b51bc0517c70239fafed1d5b51500\",\"sha256:c088a000dfdd88c184cc7271bfac8c5b82d9efa8637cd2b68183771e3cf56f04\",\"sha256:c0e0550a404c69aab1e04ae89cca3e2a042b56ab043f7f729d984bf73ed2a093\",\"sha256:c11003197f908878164f0e6da15fce22373ac3fc320cda8c9d16e6bba105b844\",\"sha256:c2a5ff58751670292b406b9f06e07ed1446a4b13ffced6b6cab75b857485cbc8\",\"sha256:c35d09db702f4185ba22bb33ef1751ad49c266534339a5cebeb5159d364f6f82\",\"sha256:c379425c2707078dfb6bfad2430728831d399dc95a7deeb92015eb4c92345eaf\",\"sha256:cc866706d56bd3a7dbf8bac8660c6f6462f2f2b8a49add2ba617bc0c54473d83\",\"sha256:d0da39795049a9afcaadec532e7b669b5ebbb2a9134576ebcc15dd5bdae33cc0\",\"sha256:f156d6ecfc747ee111c167f8faf5f4953761b5e66e91a4e6767e548d0f80129c\",\"sha256:f4ebde71785f8bceb39dcd1e7f06bcc5d5c3cf48b9f69ab52636309387b097c8\",\"sha256:fc214a6b75d2e0ea7745488da7da3c381f41790812988c7a92345978414fad37\",\"sha256:fd7eef578f5b2200d066db1b50c4aa66410786201669fb76d5238b007918fb24\",\"sha256:ff04c373477723430dce2e9d024c708a047d44cf17166bf16e604b379bf0ca14\"],\"markers\":\"python_version >= '3.6'\"},\"protobuf\":{\"version\":\"==3.17.3\",\"hashes\":[\"sha256:13ee7be3c2d9a5d2b42a1030976f760f28755fcf5863c55b1460fd205e6cd637\",\"sha256:145ce0af55c4259ca74993ddab3479c78af064002ec8227beb3d944405123c71\",\"sha256:14c1c9377a7ffbeaccd4722ab0aa900091f52b516ad89c4b0c3bb0a4af903ba5\",\"sha256:1556a1049ccec58c7855a78d27e5c6e70e95103b32de9142bae0576e9200a1b0\",\"sha256:26010f693b675ff5a1d0e1bdb17689b8b716a18709113288fead438703d45539\",\"sha256:2ae692bb6d1992afb6b74348e7bb648a75bb0d3565a3f5eea5bec8f62bd06d87\",\"sha256:2bfb815216a9cd9faec52b16fd2bfa68437a44b67c56bee59bc3926522ecb04e\",\"sha256:4ffbd23640bb7403574f7aff8368e2aeb2ec9a5c6306580be48ac59a6bac8bde\",\"sha256:59e5cf6b737c3a376932fbfb869043415f7c16a0cf176ab30a5bbc419cd709c1\",\"sha256:6902a1e4b7a319ec611a7345ff81b6b004b36b0d2196ce7a748b3493da3d226d\",\"sha256:6ce4d8bf0321e7b2d4395e253f8002a1a5ffbcfd7bcc0a6ba46712c07d47d0b4\",\"sha256:6d847c59963c03fd7a0cd7c488cadfa10cda4fff34d8bc8cba92935a91b7a037\",\"sha256:72804ea5eaa9c22a090d2803813e280fb273b62d5ae497aaf3553d141c4fdd7b\",\"sha256:7a4c97961e9e5b03a56f9a6c82742ed55375c4a25f2692b625d4087d02ed31b9\",\"sha256:85d6303e4adade2827e43c2b54114d9a6ea547b671cb63fafd5011dc47d0e13d\",\"sha256:8727ee027157516e2c311f218ebf2260a18088ffb2d29473e82add217d196b1c\",\"sha256:99938f2a2d7ca6563c0ade0c5ca8982264c484fdecf418bd68e880a7ab5730b1\",\"sha256:9b7a5c1022e0fa0dbde7fd03682d07d14624ad870ae52054849d8960f04bc764\",\"sha256:a22b3a0dbac6544dacbafd4c5f6a29e389a50e3b193e2c70dae6bbf7930f651d\",\"sha256:a38bac25f51c93e4be4092c88b2568b9f407c27217d3dd23c7a57fa522a17554\",\"sha256:a981222367fb4210a10a929ad5983ae93bd5a050a0824fc35d6371c07b78caf6\",\"sha256:ab6bb0e270c6c58e7ff4345b3a803cc59dbee19ddf77a4719c5b635f1d547aa8\",\"sha256:c56c050a947186ba51de4f94ab441d7f04fcd44c56df6e922369cc2e1a92d683\",\"sha256:e76d9686e088fece2450dbc7ee905f9be904e427341d289acbe9ad00b78ebd47\",\"sha256:ebcb546f10069b56dc2e3da35e003a02076aaa377caf8530fe9789570984a8d2\",\"sha256:f0e59430ee953184a703a324b8ec52f571c6c4259d496a19d1cabcdc19dabc62\",\"sha256:ffea251f5cd3c0b9b43c7a7a912777e0bc86263436a87c2555242a348817221b\"]},\"pyasn1\":{\"version\":\"==0.4.8\",\"hashes\":[\"sha256:014c0e9976956a08139dc0712ae195324a75e142284d5f87f1a87ee1b068a359\",\"sha256:03840c999ba71680a131cfaee6fab142e1ed9bbd9c693e285cc6aca0d555e576\",\"sha256:0458773cfe65b153891ac249bcf1b5f8f320b7c2ce462151f8fa74de8934becf\",\"sha256:08c3c53b75eaa48d71cf8c710312316392ed40899cb34710d092e96745a358b7\",\"sha256:39c7e2ec30515947ff4e87fb6f456dfc6e84857d34be479c9d4a4ba4bf46aa5d\",\"sha256:5c9414dcfede6e441f7e8f81b43b34e834731003427e5b09e4e00e3172a10f00\",\"sha256:6e7545f1a61025a4e58bb336952c5061697da694db1cae97b116e9c46abcf7c8\",\"sha256:78fa6da68ed2727915c4767bb386ab32cdba863caa7dbe473eaae45f9959da86\",\"sha256:7ab8a544af125fb704feadb008c99a88805126fb525280b2270bb25cc1d78a12\",\"sha256:99fcc3c8d804d1bc6d9a099921e39d827026409a58f2a720dcdb89374ea0c776\",\"sha256:aef77c9fb94a3ac588e87841208bdec464471d9871bd5050a287cc9a475cd0ba\",\"sha256:e89bf84b5437b532b0803ba5c9a5e054d21fec423a89952a74f87fa2c9b7bce2\",\"sha256:fec3e9d8e36808a28efb59b489e4528c10ad0f480e57dcc32b4de5c9d8c9fdf3\"]},\"pyasn1-modules\":{\"version\":\"==0.2.8\",\"hashes\":[\"sha256:0845a5582f6a02bb3e1bde9ecfc4bfcae6ec3210dd270522fee602365430c3f8\",\"sha256:0fe1b68d1e486a1ed5473f1302bd991c1611d319bba158e98b106ff86e1d7199\",\"sha256:15b7c67fabc7fc240d87fb9aabf999cf82311a6d6fb2c70d00d3d0604878c811\",\"sha256:426edb7a5e8879f1ec54a1864f16b882c2837bfd06eee62f2c982315ee2473ed\",\"sha256:65cebbaffc913f4fe9e4808735c95ea22d7a7775646ab690518c056784bc21b4\",\"sha256:905f84c712230b2c592c19470d3ca8d552de726050d1d1716282a1f6146be65e\",\"sha256:a50b808ffeb97cb3601dd25981f6b016cbb3d31fbf57a8b8a87428e6158d0c74\",\"sha256:a99324196732f53093a84c4369c996713eb8c89d360a496b599fb1a9c47fc3eb\",\"sha256:b80486a6c77252ea3a3e9b1e360bc9cf28eaac41263d173c032581ad2f20fe45\",\"sha256:c29a5e5cc7a3f05926aff34e097e84f8589cd790ce0ed41b67aed6857b26aafd\",\"sha256:cbac4bc38d117f2a49aeedec4407d23e8866ea4ac27ff2cf7fb3e5b570df19e0\",\"sha256:f39edd8c4ecaa4556e989147ebf219227e2cd2e8a43c7e7fcb1f1c18c5fd6a3d\",\"sha256:fe0644d9ab041506b62782e92b06b8c68cca799e1a9636ec398675459e031405\"]},\"pyparsing\":{\"version\":\"==2.4.7\",\"hashes\":[\"sha256:c203ec8783bf771a155b207279b9bccb8dea02d8f0c9e5f8ead507bc3246ecc1\",\"sha256:ef9d7589ef3c200abe66653d3f1ab1033c3c419ae9b9bdb1240a85b024efc88b\"],\"markers\":\"python_version >= '2.6' and python_version not in '3.0, 3.1, 3.2, 3.3'\"},\"python-dateutil\":{\"version\":\"==2.8.2\",\"hashes\":[\"sha256:0123cacc1627ae19ddf3c27a5de5bd67ee4586fbdd6440d9748f8abb483d3e86\",\"sha256:961d03dc3453ebbc59dbdea9e4e11c5651520a876d0f4db161e8674aae935da9\"],\"markers\":\"python_version >= '2.7' and python_version not in '3.0, 3.1, 3.2, 3.3'\"},\"requests\":{\"version\":\"==2.26.0\",\"hashes\":[\"sha256:6c1246513ecd5ecd4528a0906f910e8f0f9c6b8ec72030dc9fd154dc1a6efd24\",\"sha256:b8aa58f8cf793ffd8782d3d8cb19e66ef36f7aba4353eec859e74678b01b07a7\"],\"markers\":\"python_version >= '2.7' and python_version not in '3.0, 3.1, 3.2, 3.3, 3.4, 3.5'\"},\"requests-oauthlib\":{\"version\":\"==1.3.0\",\"hashes\":[\"sha256:7f71572defaecd16372f9006f33c2ec8c077c3cfa6f5911a9a90202beb513f3d\",\"sha256:b4261601a71fd721a8bd6d7aa1cc1d6a8a93b4a9f5e96626f8e4d91e8beeaa6a\",\"sha256:fa6c47b933f01060936d87ae9327fead68768b69c6c9ea2109c48be30f2d4dbc\"]},\"rsa\":{\"version\":\"==4.7.2\",\"hashes\":[\"sha256:78f9a9bf4e7be0c5ded4583326e7461e3a3c5aae24073648b4bdfa797d78c9d2\",\"sha256:9d689e6ca1b3038bc82bf8d23e944b6b6037bc02301a574935b2dd946e0353b9\"],\"markers\":\"python_version >= '3.6'\"},\"s3transfer\":{\"version\":\"==0.3.7\",\"hashes\":[\"sha256:35627b86af8ff97e7ac27975fe0a98a312814b46c6333d8a6b889627bcd80994\",\"sha256:efa5bd92a897b6a8d5c1383828dca3d52d0790e0756d49740563a3fb6ed03246\"]},\"six\":{\"version\":\"==1.15.0\",\"hashes\":[\"sha256:30639c035cdb23534cd4aa2dd52c3bf48f06e5f4a941509c8bafd8ce11080259\",\"sha256:8b74bedcbbbaca38ff6d7491d76f2b06b3592611af620f8426e82dddb04a5ced\"],\"markers\":\"python_version >= '2.7' and python_version not in '3.0, 3.1, 3.2, 3.3'\"},\"tensorboard\":{\"version\":\"==2.6.0\",\"hashes\":[\"sha256:f7dac4cdfb52d14c9e3f74585ce2aaf8e6203620a864e51faf84988b09f7bbdb\"],\"markers\":\"python_version >= '3.6'\"},\"tensorboard-data-server\":{\"version\":\"==0.6.1\",\"hashes\":[\"sha256:809fe9887682d35c1f7d1f54f0f40f98bb1f771b14265b453ca051e2ce58fca7\",\"sha256:d8237580755e58eff68d1f3abefb5b1e39ae5c8b127cc40920f9c4fb33f4b98a\",\"sha256:fa8cef9be4fcae2f2363c88176638baf2da19c5ec90addb49b1cde05c95c88ee\"],\"markers\":\"python_version >= '3.6'\"},\"tensorboard-plugin-wit\":{\"version\":\"==1.8.0\",\"hashes\":[\"sha256:2a80d1c551d741e99b2f197bb915d8a133e24adb8da1732b840041860f91183a\"]},\"tensorflow\":{\"version\":\"==2.6.0\",\"hashes\":[\"sha256:00b1af0a0c5c102db19caceffac4bd4e6c536e6d7512144c241a4ace4428e7c6\",\"sha256:2a067d22a356c2cd4753bdd16ee492c55a610f5ebc52713e2954c642f070321c\",\"sha256:2c9b8c6adc060acfcf805a2ea501db0124b679d95b522fd5983a4c110e8e0264\",\"sha256:4716c9b25a61a2c79b1f253d1e114f1f8679241559c13ad18c657c626a7d5924\",\"sha256:6e38b6969414d16afc560c58ca34e1328cc0a5dbd644b64e060f5be8a6653274\",\"sha256:8b5ce09ede0fe45ef100f4dc65cf3f46722194e75139f85d524058315e2ce9fa\",\"sha256:bc73ebdd30c48cfc27ba307271117e6dbb795b37396ed817b2fec9393380b115\",\"sha256:bfb255c2b0400bc5b4060dda098d46cd7ddeb53b7cbac1dfa29435612cba828c\",\"sha256:c67fad296a3a2133b7a14da5f06c9937e7911b02c5d7a3ff6ba52a1d79b6bc9e\",\"sha256:d6468e05552720100e8f94097feb770de320e4c8c244323a8746bd84e5ba4052\",\"sha256:dea97f664246e185d79cbe40a86309527affd4232f06afa8a6500c4fc4b64a03\",\"sha256:e45e026a9d08c89cecc1160d8248135e2fb79bdc3267328399e1fb25ce583bd6\"],\"index\":\"pypi\"},\"tensorflow-estimator\":{\"version\":\"==2.6.0\",\"hashes\":[\"sha256:cf78528998efdb637ac0abaf525c929bf192767544eb24ae20d9266effcf5afd\"]},\"termcolor\":{\"version\":\"==1.1.0\",\"hashes\":[\"sha256:1d6d69ce66211143803fbc56652b41d73b4a400a2891d7bf7a1cdf4c02de613b\"]},\"typing-extensions\":{\"version\":\"==3.7.4.3\",\"hashes\":[\"sha256:7cb407020f00f7bfc3cb3e7881628838e69d8f3fcab2f64742a5e76b2f841918\",\"sha256:99d4073b617d30288f569d3f13d2bd7548c3a7e4c8de87db09a9d29bb3a4a60c\",\"sha256:dafc7639cde7f1b6e1acc0f457842a83e722ccca8eef5270af2d74792619a89f\"]},\"urllib3\":{\"version\":\"==1.26.6\",\"hashes\":[\"sha256:39fb8672126159acb139a7718dd10806104dec1e2f0f6c88aab05d17df10c8d4\",\"sha256:f57b4c16c62fa2760b7e3d97c35b255512fb6b59a259730f36ba32ce9f8e342f\"],\"markers\":\"python_version >= '2.7' and python_version not in '3.0, 3.1, 3.2, 3.3, 3.4' and python_version < '4'\"},\"werkzeug\":{\"version\":\"==2.0.1\",\"hashes\":[\"sha256:1de1db30d010ff1af14a009224ec49ab2329ad2cde454c8a708130642d579c42\",\"sha256:6c1ec500dcdba0baa27600f6a22f6333d8b662d22027ff9f6202e3367413caa8\"],\"markers\":\"python_version >= '3.6'\"},\"wheel\":{\"version\":\"==0.37.0\",\"hashes\":[\"sha256:21014b2bd93c6d0034b6ba5d35e4eb284340e09d63c59aef6fc14b0f346146fd\",\"sha256:e2ef7239991699e3355d54f8e968a21bb940a1dbf34a4d226741e64462516fad\"],\"markers\":\"python_version >= '2.7' and python_version not in '3.0, 3.1, 3.2, 3.3, 3.4'\"},\"wrapt\":{\"version\":\"==1.12.1\",\"hashes\":[\"sha256:b62ffa81fb85f4332a4f609cab4ac40709470da05643a082ec1eb88e6d9b97d7\"]}},\"develop\":{}}"
 },
 "nbformat": 4,
 "nbformat_minor": 4
}
